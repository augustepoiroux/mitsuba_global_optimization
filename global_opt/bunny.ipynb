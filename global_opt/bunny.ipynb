{
 "cells": [
  {
   "cell_type": "code",
   "execution_count": 1,
   "metadata": {},
   "outputs": [],
   "source": [
    "import drjit as dr\n",
    "import mitsuba as mi\n",
    "\n",
    "import os\n",
    "import sys\n",
    "ROOT_DIR = os.path.dirname(os.getcwd())\n",
    "sys.path.append(ROOT_DIR)\n",
    "\n",
    "from utils.utils import image_to_bm, to_float, unidim_to_bm, rel_l1_loss, mse, LOSS_FNS\n",
    "\n",
    "mi.set_variant('cuda_ad_rgb')"
   ]
  },
  {
   "cell_type": "code",
   "execution_count": 2,
   "metadata": {},
   "outputs": [],
   "source": [
    "integrator = {\n",
    "    'type': 'direct_reparam',\n",
    "}"
   ]
  },
  {
   "cell_type": "code",
   "execution_count": 3,
   "metadata": {},
   "outputs": [],
   "source": [
    "from mitsuba.scalar_rgb import Transform4f as T\n",
    "\n",
    "def reset_scene():\n",
    "    return mi.load_dict({\n",
    "    'type': 'scene',\n",
    "    'integrator': integrator,\n",
    "    'sensor':  {\n",
    "        'type': 'perspective',\n",
    "        'to_world': T.look_at(\n",
    "                        origin=(0, 0, 2),\n",
    "                        target=(0, 0, 0),\n",
    "                        up=(0, 1, 0)\n",
    "                    ),\n",
    "        'fov': 60,\n",
    "        'film': {\n",
    "            'type': 'hdrfilm',\n",
    "            'width': 64,\n",
    "            'height': 64,\n",
    "            'rfilter': { 'type': 'gaussian' },\n",
    "            'sample_border': True\n",
    "        },\n",
    "    },\n",
    "    'wall': {\n",
    "        'type': 'obj',\n",
    "        'filename': '../scenes/meshes/rectangle.obj',\n",
    "        'to_world': T.translate([0, 0, -2]).scale(2.0),\n",
    "        'face_normals': True,\n",
    "        'bsdf': {\n",
    "            'type': 'diffuse',\n",
    "            'reflectance': { 'type': 'rgb', 'value': (0.5, 0.5, 0.5) },\n",
    "        }\n",
    "    },\n",
    "    'bunny': {\n",
    "        'type': 'ply',\n",
    "        'filename': '../scenes/meshes/bunny.ply',\n",
    "        'to_world': T.scale(6.5),\n",
    "        'bsdf': {\n",
    "            'type': 'diffuse',\n",
    "            'reflectance': { 'type': 'rgb', 'value': (0.3, 0.3, 0.75) },\n",
    "        },\n",
    "    },\n",
    "    'light': {\n",
    "        'type': 'obj',\n",
    "        'filename': '../scenes/meshes/sphere.obj',\n",
    "        'emitter': {\n",
    "            'type': 'area',\n",
    "            'radiance': {'type': 'rgb', 'value': [1e3, 1e3, 1e3]}\n",
    "        },\n",
    "        'to_world': T.translate([2.5, 2.5, 7.0]).scale(0.25)\n",
    "    }\n",
    "})\n",
    "\n",
    "scene = reset_scene()"
   ]
  },
  {
   "cell_type": "code",
   "execution_count": 4,
   "metadata": {},
   "outputs": [
    {
     "data": {
      "text/html": [
       "<img src=\"data:image/png;base64, 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\"width=\"250vm\" />"
      ],
      "text/plain": [
       "Bitmap[\n",
       "  pixel_format = rgb,\n",
       "  component_format = uint8,\n",
       "  size = [64, 64],\n",
       "  srgb_gamma = 1,\n",
       "  struct = Struct<3>[\n",
       "    uint8 R; // @0, normalized, gamma, premultiplied alpha\n",
       "    uint8 G; // @1, normalized, gamma, premultiplied alpha\n",
       "    uint8 B; // @2, normalized, gamma, premultiplied alpha\n",
       "  ],\n",
       "  data = [ 12 KiB of image data ]\n",
       "]"
      ]
     },
     "execution_count": 4,
     "metadata": {},
     "output_type": "execute_result"
    }
   ],
   "source": [
    "img_ref = mi.render(scene, seed=0, spp=1024)\n",
    "\n",
    "mi.util.convert_to_bitmap(img_ref)"
   ]
  },
  {
   "cell_type": "code",
   "execution_count": 5,
   "metadata": {},
   "outputs": [],
   "source": [
    "params = mi.traverse(scene)\n",
    "initial_vertex_positions = dr.unravel(mi.Point3f, params['bunny.vertex_positions'])"
   ]
  },
  {
   "cell_type": "code",
   "execution_count": 6,
   "metadata": {},
   "outputs": [],
   "source": [
    "def update_scene(params, trans_x, trans_y, angle):\n",
    "    trafo = mi.Transform4f.translate([trans_x, trans_y, 0.0]).rotate([0, 1, 0], angle * 100.0)\n",
    "\n",
    "    params['bunny.vertex_positions'] = dr.ravel(trafo @ initial_vertex_positions)\n",
    "    params.update()\n",
    "\n",
    "def apply_transformation(params, opt):\n",
    "    opt['trans'] = dr.clamp(opt['trans'], -1.0, 1.0)\n",
    "    opt['angle'] = dr.clamp(opt['angle'], -1.0, 1.0)\n",
    "    return update_scene(params, opt['trans'].x, opt['trans'].y, opt['angle'])"
   ]
  },
  {
   "cell_type": "code",
   "execution_count": 7,
   "metadata": {},
   "outputs": [],
   "source": [
    "from utils.global_opt import GlobalOptGrad, IterationStoppingCriteria, NotImprovingStoppingCriteria\n",
    "\n",
    "from pymoo.algorithms.soo.nonconvex.pso import PSO\n",
    "from pymoo.algorithms.soo.nonconvex.ga import GA\n",
    "from pymoo.algorithms.soo.nonconvex.cmaes import CMAES\n",
    "from pymoo.algorithms.soo.nonconvex.de import DE"
   ]
  },
  {
   "cell_type": "code",
   "execution_count": 8,
   "metadata": {},
   "outputs": [],
   "source": [
    "class BunnyGlobalOpt(GlobalOptGrad):\n",
    "    def __init__(self):\n",
    "        super().__init__(n_var=3, xl=-1.0, xu=1.0)\n",
    "\n",
    "    def set_params_from_vector(self, params, vector):\n",
    "        params[f'trans'] = mi.Point2f(vector[0], vector[1])\n",
    "        params[f'angle'] = mi.Float(vector[2])\n",
    "\n",
    "    def set_vector_from_params(self, params, vector):\n",
    "        vector[0] = to_float(params[f'trans'].x)\n",
    "        vector[1] = to_float(params[f'trans'].y)\n",
    "        vector[2] = to_float(params[f'angle'])\n",
    "\n",
    "    def apply_transformations(self, scene_params, params):\n",
    "        apply_transformation(scene_params, params)\n",
    "\n",
    "    def initialize_scene(self):\n",
    "        scene = reset_scene()\n",
    "        params = mi.traverse(scene)\n",
    "        return scene, params"
   ]
  },
  {
   "cell_type": "code",
   "execution_count": 9,
   "metadata": {},
   "outputs": [],
   "source": [
    "global_opt_bunnies = BunnyGlobalOpt()\n",
    "loss_fn = lambda img: mse(img, img_ref)"
   ]
  },
  {
   "cell_type": "code",
   "execution_count": 10,
   "metadata": {},
   "outputs": [
    {
     "name": "stdout",
     "output_type": "stream",
     "text": [
      "\n",
      "Compiled modules for significant speedup can not be used!\n",
      "https://pymoo.org/installation.html#installation\n",
      "\n",
      "To disable this warning:\n",
      "from pymoo.config import Config\n",
      "Config.warnings['not_compiled'] = False\n",
      "\n"
     ]
    },
    {
     "name": "stderr",
     "output_type": "stream",
     "text": [
      "[Gen. 10/10 Ind. 10/10\tBest loss: 0.002794\tNb renderings: 199: 100%|██████████| 10/10 [00:33<00:00,  3.37s/it]\n"
     ]
    }
   ],
   "source": [
    "res_ga, losses_ga = global_opt_bunnies.run(\n",
    "    GA(pop_size=10, eliminate_duplicates=True),\n",
    "    loss_fn,\n",
    "    n_gen=10,\n",
    "    grad_descent_stopping_criteria=IterationStoppingCriteria(max_iter=0),\n",
    "    lr=0.025,\n",
    "    spp=16,\n",
    "    seed=0,\n",
    "    verbose=True,\n",
    ")"
   ]
  },
  {
   "cell_type": "code",
   "execution_count": 11,
   "metadata": {},
   "outputs": [
    {
     "data": {
      "image/png": "[encoded data removed]",
      "text/plain": [
       "<Figure size 720x720 with 2 Axes>"
      ]
     },
     "metadata": {
      "needs_background": "light"
     },
     "output_type": "display_data"
    }
   ],
   "source": [
    "import matplotlib.pyplot as plt\n",
    "\n",
    "fig, axs = plt.subplots(1, 2, figsize=(10, 10))\n",
    "\n",
    "axs[0].imshow(global_opt_bunnies.render_individual(res_ga.X, spp=1024))\n",
    "axs[0].axis('off')\n",
    "axs[0].set_title('Optimized image')\n",
    "\n",
    "axs[1].imshow(mi.util.convert_to_bitmap(img_ref))\n",
    "axs[1].axis('off')\n",
    "axs[1].set_title('Reference Image');"
   ]
  },
  {
   "cell_type": "code",
   "execution_count": 17,
   "metadata": {},
   "outputs": [
    {
     "name": "stderr",
     "output_type": "stream",
     "text": [
      "[Gen. 3/3 Ind. 10/10\tBest loss: 0.006817\tNb renderings: 61: 100%|██████████| 3/3 [00:11<00:00,  3.78s/it]\n"
     ]
    }
   ],
   "source": [
    "res_ga, losses_ga = global_opt_bunnies.run(\n",
    "    GA(pop_size=10, eliminate_duplicates=True),\n",
    "    loss_fn,\n",
    "    n_gen=3,\n",
    "    grad_descent_stopping_criteria=IterationStoppingCriteria(max_iter=3),\n",
    "    lr=0.025,\n",
    "    spp=16,\n",
    "    seed=0,\n",
    "    verbose=True,\n",
    ")"
   ]
  },
  {
   "cell_type": "code",
   "execution_count": 18,
   "metadata": {},
   "outputs": [
    {
     "data": {
      "image/png": "[encoded data removed]",
      "text/plain": [
       "<Figure size 720x720 with 2 Axes>"
      ]
     },
     "metadata": {
      "needs_background": "light"
     },
     "output_type": "display_data"
    }
   ],
   "source": [
    "fig, axs = plt.subplots(1, 2, figsize=(10, 10))\n",
    "\n",
    "axs[0].imshow(global_opt_bunnies.render_individual(res_ga.X, spp=1024))\n",
    "axs[0].axis('off')\n",
    "axs[0].set_title('Optimized image')\n",
    "\n",
    "axs[1].imshow(mi.util.convert_to_bitmap(img_ref))\n",
    "axs[1].axis('off')\n",
    "axs[1].set_title('Reference Image');"
   ]
  },
  {
   "cell_type": "code",
   "execution_count": 15,
   "metadata": {},
   "outputs": [
    {
     "name": "stderr",
     "output_type": "stream",
     "text": [
      "[Gen. 5/5 Ind. 10/10\tBest loss: 0.002770\tNb renderings: 155: 100%|██████████| 5/5 [00:32<00:00,  6.46s/it]\n"
     ]
    }
   ],
   "source": [
    "res_ga, losses_ga = global_opt_bunnies.run(\n",
    "    GA(pop_size=10, eliminate_duplicates=True),\n",
    "    loss_fn,\n",
    "    n_gen=5,\n",
    "    grad_descent_stopping_criteria=NotImprovingStoppingCriteria(max_iter=5, eps=0.0),\n",
    "    lr=0.025,\n",
    "    spp=16,\n",
    "    seed=0,\n",
    "    verbose=True,\n",
    ")"
   ]
  },
  {
   "cell_type": "code",
   "execution_count": 16,
   "metadata": {},
   "outputs": [
    {
     "data": {
      "image/png": "[encoded data removed]",
      "text/plain": [
       "<Figure size 720x720 with 2 Axes>"
      ]
     },
     "metadata": {
      "needs_background": "light"
     },
     "output_type": "display_data"
    }
   ],
   "source": [
    "fig, axs = plt.subplots(1, 2, figsize=(10, 10))\n",
    "\n",
    "axs[0].imshow(global_opt_bunnies.render_individual(res_ga.X, spp=1024))\n",
    "axs[0].axis('off')\n",
    "axs[0].set_title('Optimized image')\n",
    "\n",
    "axs[1].imshow(mi.util.convert_to_bitmap(img_ref))\n",
    "axs[1].axis('off')\n",
    "axs[1].set_title('Reference Image');"
   ]
  }
 ],
 "metadata": {
  "kernelspec": {
   "display_name": "Python 3.10.6 64-bit",
   "language": "python",
   "name": "python3"
  },
  "language_info": {
   "codemirror_mode": {
    "name": "ipython",
    "version": 3
   },
   "file_extension": ".py",
   "mimetype": "text/x-python",
   "name": "python",
   "nbconvert_exporter": "python",
   "pygments_lexer": "ipython3",
   "version": "3.8.10"
  },
  "orig_nbformat": 4,
  "vscode": {
   "interpreter": {
    "hash": "916dbcbb3f70747c44a77c7bcd40155683ae19c65e1c03b4aa3499c5328201f1"
   }
  }
 },
 "nbformat": 4,
 "nbformat_minor": 2
}
