{
 "cells": [
  {
   "cell_type": "code",
   "execution_count": 2,
   "metadata": {},
   "outputs": [
    {
     "ename": "ImportError",
     "evalue": "Requested an unsupported variant \"cuda_ad_rgb_polarized\". The following variants are available: scalar_rgb, scalar_spectral, cuda_ad_rgb, llvm_ad_rgb.",
     "output_type": "error",
     "traceback": [
      "\u001b[0;31m---------------------------------------------------------------------------\u001b[0m",
      "\u001b[0;31mImportError\u001b[0m                               Traceback (most recent call last)",
      "\u001b[1;32m/home/auguste/Documents/EPFL/Semester_Project/RGL/tests/inverse/polarizer.ipynb Cellule 1\u001b[0m in \u001b[0;36m<cell line: 4>\u001b[0;34m()\u001b[0m\n\u001b[1;32m      <a href='vscode-notebook-cell:/home/auguste/Documents/EPFL/Semester_Project/RGL/tests/inverse/polarizer.ipynb#W0sZmlsZQ%3D%3D?line=0'>1</a>\u001b[0m \u001b[39mimport\u001b[39;00m \u001b[39mdrjit\u001b[39;00m \u001b[39mas\u001b[39;00m \u001b[39mdr\u001b[39;00m\n\u001b[1;32m      <a href='vscode-notebook-cell:/home/auguste/Documents/EPFL/Semester_Project/RGL/tests/inverse/polarizer.ipynb#W0sZmlsZQ%3D%3D?line=1'>2</a>\u001b[0m \u001b[39mimport\u001b[39;00m \u001b[39mmitsuba\u001b[39;00m \u001b[39mas\u001b[39;00m \u001b[39mmi\u001b[39;00m\n\u001b[0;32m----> <a href='vscode-notebook-cell:/home/auguste/Documents/EPFL/Semester_Project/RGL/tests/inverse/polarizer.ipynb#W0sZmlsZQ%3D%3D?line=3'>4</a>\u001b[0m mi\u001b[39m.\u001b[39;49mset_variant(\u001b[39m'\u001b[39;49m\u001b[39mcuda_ad_rgb_polarized\u001b[39;49m\u001b[39m'\u001b[39;49m)\n\u001b[1;32m      <a href='vscode-notebook-cell:/home/auguste/Documents/EPFL/Semester_Project/RGL/tests/inverse/polarizer.ipynb#W0sZmlsZQ%3D%3D?line=5'>6</a>\u001b[0m scene \u001b[39m=\u001b[39m mi\u001b[39m.\u001b[39mload_file(\u001b[39m'\u001b[39m\u001b[39m../scenes/polarizers.xml\u001b[39m\u001b[39m'\u001b[39m)\n",
      "File \u001b[0;32m~/miniconda3/envs/rgl/lib/python3.10/site-packages/mitsuba/__init__.py:323\u001b[0m, in \u001b[0;36mMitsubaModule.set_variant\u001b[0;34m(self, *args)\u001b[0m\n\u001b[1;32m    320\u001b[0m         \u001b[39mbreak\u001b[39;00m\n\u001b[1;32m    322\u001b[0m \u001b[39mif\u001b[39;00m value \u001b[39mis\u001b[39;00m \u001b[39mNone\u001b[39;00m:\n\u001b[0;32m--> 323\u001b[0m     \u001b[39mraise\u001b[39;00m \u001b[39mImportError\u001b[39;00m(\u001b[39m'\u001b[39m\u001b[39mRequested an unsupported variant \u001b[39m\u001b[39m\"\u001b[39m\u001b[39m%s\u001b[39;00m\u001b[39m\"\u001b[39m\u001b[39m. The \u001b[39m\u001b[39m'\u001b[39m\n\u001b[1;32m    324\u001b[0m                       \u001b[39m'\u001b[39m\u001b[39mfollowing variants are available: \u001b[39m\u001b[39m%s\u001b[39;00m\u001b[39m.\u001b[39m\u001b[39m'\u001b[39m \u001b[39m%\u001b[39m (\n\u001b[1;32m    325\u001b[0m                         args \u001b[39mif\u001b[39;00m \u001b[39mlen\u001b[39m(args) \u001b[39m>\u001b[39m \u001b[39m1\u001b[39m \u001b[39melse\u001b[39;00m args[\u001b[39m0\u001b[39m],\n\u001b[1;32m    326\u001b[0m                         \u001b[39m\"\u001b[39m\u001b[39m, \u001b[39m\u001b[39m\"\u001b[39m\u001b[39m.\u001b[39mjoin(\u001b[39mself\u001b[39m\u001b[39m.\u001b[39mvariants())))\n\u001b[1;32m    328\u001b[0m \u001b[39mglobal\u001b[39;00m _tls\n\u001b[1;32m    329\u001b[0m \u001b[39mif\u001b[39;00m \u001b[39mgetattr\u001b[39m(_tls, \u001b[39m'\u001b[39m\u001b[39mvariant\u001b[39m\u001b[39m'\u001b[39m, \u001b[39mNone\u001b[39;00m) \u001b[39m==\u001b[39m value:\n",
      "\u001b[0;31mImportError\u001b[0m: Requested an unsupported variant \"cuda_ad_rgb_polarized\". The following variants are available: scalar_rgb, scalar_spectral, cuda_ad_rgb, llvm_ad_rgb."
     ]
    }
   ],
   "source": [
    "import drjit as dr\n",
    "import mitsuba as mi\n",
    "\n",
    "mi.set_variant('cuda_ad_rgb_polarized')\n",
    "\n",
    "scene = mi.load_file('../scenes/polarizers.xml')"
   ]
  },
  {
   "cell_type": "code",
   "execution_count": null,
   "metadata": {},
   "outputs": [],
   "source": []
  }
 ],
 "metadata": {
  "kernelspec": {
   "display_name": "Python 3.10.4 ('rgl')",
   "language": "python",
   "name": "python3"
  },
  "language_info": {
   "codemirror_mode": {
    "name": "ipython",
    "version": 3
   },
   "file_extension": ".py",
   "mimetype": "text/x-python",
   "name": "python",
   "nbconvert_exporter": "python",
   "pygments_lexer": "ipython3",
   "version": "3.10.4"
  },
  "orig_nbformat": 4,
  "vscode": {
   "interpreter": {
    "hash": "ad6a8c3de7d8a127e94108e4b6bacbc015ae1a45a33902d761ac5a8539a51256"
   }
  }
 },
 "nbformat": 4,
 "nbformat_minor": 2
}
